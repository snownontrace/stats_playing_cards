{
 "cells": [
  {
   "cell_type": "code",
   "execution_count": 32,
   "metadata": {},
   "outputs": [],
   "source": [
    "import pandas as pd\n",
    "import seaborn as sns\n",
    "import matplotlib.pyplot as plt"
   ]
  },
  {
   "cell_type": "code",
   "execution_count": 27,
   "metadata": {},
   "outputs": [],
   "source": [
    "player_list = df.player_id.unique().tolist()"
   ]
  },
  {
   "cell_type": "code",
   "execution_count": 45,
   "metadata": {},
   "outputs": [],
   "source": [
    "# Utility functions\n",
    "def get_winning_rate(df, player):\n",
    "    '''calculate the winning rate of the specified player'''\n",
    "    df_player = df[df.player_id == player]\n",
    "    df_player_win = df_player[df_player.player_win_lose == 'win']\n",
    "    winning_rate = len(df_player_win) / len(df_player)\n",
    "    return winning_rate\n",
    "\n",
    "def get_n_games(df, player):\n",
    "    '''calculate the number of games played by the specified player'''\n",
    "    df_player = df[df.player_id == player]\n",
    "    return len(df_player)\n",
    "\n",
    "def get_dealer_winning_rate_at_n_decks(df, n_decks):\n",
    "    '''calculate the dealer's winning rate of the specified n_decks'''\n",
    "    df_n_decks = df[df.n_decks == n_decks]\n",
    "    if len(df_n_decks) > 0:\n",
    "        df_selected = df[(df.n_decks == n_decks) & (df.dealer_win_lose == 'win')]\n",
    "        winning_rate = df_selected.game_id.nunique() / df_n_decks.game_id.nunique()\n",
    "        return winning_rate\n",
    "    else:\n",
    "        return 'na'\n"
   ]
  },
  {
   "cell_type": "code",
   "execution_count": 54,
   "metadata": {},
   "outputs": [],
   "source": [
    "n_decks_list = list(range(3, df.n_decks.max()+1))\n",
    "# n_decks\n",
    "dealer_winning_rates = []\n",
    "for n_decks in n_decks_list:\n",
    "    dealer_winning_rates.append(get_dealer_winning_rate_at_n_decks(df, n_decks))"
   ]
  },
  {
   "cell_type": "code",
   "execution_count": 55,
   "metadata": {},
   "outputs": [
    {
     "data": {
      "text/plain": [
       "[0.4, 0.42105263157894735, 0.42857142857142855, 0.42857142857142855, 0.75]"
      ]
     },
     "execution_count": 55,
     "metadata": {},
     "output_type": "execute_result"
    }
   ],
   "source": [
    "dealer_winning_rates"
   ]
  },
  {
   "cell_type": "code",
   "execution_count": 56,
   "metadata": {},
   "outputs": [
    {
     "data": {
      "text/plain": [
       "<AxesSubplot:>"
      ]
     },
     "execution_count": 56,
     "metadata": {},
     "output_type": "execute_result"
    },
    {
     "data": {
      "image/png": "[encoded data removed]",
      "text/plain": [
       "<Figure size 432x288 with 1 Axes>"
      ]
     },
     "metadata": {
      "needs_background": "light"
     },
     "output_type": "display_data"
    }
   ],
   "source": [
    "sns.scatterplot(n_decks_list, dealer_winning_rates)"
   ]
  }
 ],
 "metadata": {
  "kernelspec": {
   "display_name": "Python 3",
   "language": "python",
   "name": "python3"
  },
  "language_info": {
   "codemirror_mode": {
    "name": "ipython",
    "version": 3
   },
   "file_extension": ".py",
   "mimetype": "text/x-python",
   "name": "python",
   "nbconvert_exporter": "python",
   "pygments_lexer": "ipython3",
   "version": "3.8.3"
  }
 },
 "nbformat": 4,
 "nbformat_minor": 4
}

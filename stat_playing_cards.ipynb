{
 "cells": [
  {
   "cell_type": "code",
   "execution_count": 32,
   "metadata": {},
   "outputs": [],
   "source": [
    "import pandas as pd\n",
    "import seaborn as sns\n",
    "import matplotlib.pyplot as plt"
   ]
  },
  {
   "cell_type": "code",
   "execution_count": 26,
   "metadata": {},
   "outputs": [
    {
     "data": {
      "text/html": [
       "<div>\n",
       "<style scoped>\n",
       "    .dataframe tbody tr th:only-of-type {\n",
       "        vertical-align: middle;\n",
       "    }\n",
       "\n",
       "    .dataframe tbody tr th {\n",
       "        vertical-align: top;\n",
       "    }\n",
       "\n",
       "    .dataframe thead th {\n",
       "        text-align: right;\n",
       "    }\n",
       "</style>\n",
       "<table border=\"1\" class=\"dataframe\">\n",
       "  <thead>\n",
       "    <tr style=\"text-align: right;\">\n",
       "      <th></th>\n",
       "      <th>game_id</th>\n",
       "      <th>player_id</th>\n",
       "      <th>is_dealer</th>\n",
       "      <th>on_dealer_team</th>\n",
       "      <th>player_win_lose</th>\n",
       "      <th>level_before</th>\n",
       "      <th>level_rounds_before</th>\n",
       "      <th>level_after</th>\n",
       "      <th>level_rounds_after</th>\n",
       "      <th>prime_suit</th>\n",
       "      <th>...</th>\n",
       "      <th>score_goal</th>\n",
       "      <th>score</th>\n",
       "      <th>dealer_win_lose</th>\n",
       "      <th>non_dealer_win_lose</th>\n",
       "      <th>level_up</th>\n",
       "      <th>lifetime_level_before</th>\n",
       "      <th>lifetime_level_after</th>\n",
       "      <th>year</th>\n",
       "      <th>month</th>\n",
       "      <th>day</th>\n",
       "    </tr>\n",
       "  </thead>\n",
       "  <tbody>\n",
       "    <tr>\n",
       "      <th>0</th>\n",
       "      <td>1</td>\n",
       "      <td>Xu_Zhang</td>\n",
       "      <td>Yes</td>\n",
       "      <td>Yes</td>\n",
       "      <td>lose</td>\n",
       "      <td>2</td>\n",
       "      <td>1</td>\n",
       "      <td>2</td>\n",
       "      <td>1</td>\n",
       "      <td>none</td>\n",
       "      <td>...</td>\n",
       "      <td>120</td>\n",
       "      <td>150</td>\n",
       "      <td>lose</td>\n",
       "      <td>win</td>\n",
       "      <td>1</td>\n",
       "      <td>0</td>\n",
       "      <td>0</td>\n",
       "      <td>2020</td>\n",
       "      <td>11</td>\n",
       "      <td>7</td>\n",
       "    </tr>\n",
       "    <tr>\n",
       "      <th>1</th>\n",
       "      <td>1</td>\n",
       "      <td>Di_Wu</td>\n",
       "      <td>No</td>\n",
       "      <td>Yes</td>\n",
       "      <td>lose</td>\n",
       "      <td>2</td>\n",
       "      <td>1</td>\n",
       "      <td>2</td>\n",
       "      <td>1</td>\n",
       "      <td>none</td>\n",
       "      <td>...</td>\n",
       "      <td>120</td>\n",
       "      <td>150</td>\n",
       "      <td>lose</td>\n",
       "      <td>win</td>\n",
       "      <td>1</td>\n",
       "      <td>0</td>\n",
       "      <td>0</td>\n",
       "      <td>2020</td>\n",
       "      <td>11</td>\n",
       "      <td>7</td>\n",
       "    </tr>\n",
       "    <tr>\n",
       "      <th>2</th>\n",
       "      <td>1</td>\n",
       "      <td>Zheng_Li</td>\n",
       "      <td>No</td>\n",
       "      <td>Yes</td>\n",
       "      <td>lose</td>\n",
       "      <td>2</td>\n",
       "      <td>1</td>\n",
       "      <td>2</td>\n",
       "      <td>1</td>\n",
       "      <td>none</td>\n",
       "      <td>...</td>\n",
       "      <td>120</td>\n",
       "      <td>150</td>\n",
       "      <td>lose</td>\n",
       "      <td>win</td>\n",
       "      <td>1</td>\n",
       "      <td>0</td>\n",
       "      <td>0</td>\n",
       "      <td>2020</td>\n",
       "      <td>11</td>\n",
       "      <td>7</td>\n",
       "    </tr>\n",
       "    <tr>\n",
       "      <th>3</th>\n",
       "      <td>1</td>\n",
       "      <td>Minghai_Qin</td>\n",
       "      <td>No</td>\n",
       "      <td>No</td>\n",
       "      <td>win</td>\n",
       "      <td>2</td>\n",
       "      <td>1</td>\n",
       "      <td>3</td>\n",
       "      <td>1</td>\n",
       "      <td>none</td>\n",
       "      <td>...</td>\n",
       "      <td>120</td>\n",
       "      <td>150</td>\n",
       "      <td>lose</td>\n",
       "      <td>win</td>\n",
       "      <td>1</td>\n",
       "      <td>0</td>\n",
       "      <td>1</td>\n",
       "      <td>2020</td>\n",
       "      <td>11</td>\n",
       "      <td>7</td>\n",
       "    </tr>\n",
       "    <tr>\n",
       "      <th>4</th>\n",
       "      <td>1</td>\n",
       "      <td>Shaohe_Wang</td>\n",
       "      <td>No</td>\n",
       "      <td>No</td>\n",
       "      <td>win</td>\n",
       "      <td>2</td>\n",
       "      <td>1</td>\n",
       "      <td>3</td>\n",
       "      <td>1</td>\n",
       "      <td>none</td>\n",
       "      <td>...</td>\n",
       "      <td>120</td>\n",
       "      <td>150</td>\n",
       "      <td>lose</td>\n",
       "      <td>win</td>\n",
       "      <td>1</td>\n",
       "      <td>0</td>\n",
       "      <td>1</td>\n",
       "      <td>2020</td>\n",
       "      <td>11</td>\n",
       "      <td>7</td>\n",
       "    </tr>\n",
       "  </tbody>\n",
       "</table>\n",
       "<p>5 rows × 22 columns</p>\n",
       "</div>"
      ],
      "text/plain": [
       "   game_id    player_id is_dealer on_dealer_team player_win_lose level_before  \\\n",
       "0        1     Xu_Zhang       Yes            Yes            lose            2   \n",
       "1        1        Di_Wu        No            Yes            lose            2   \n",
       "2        1     Zheng_Li        No            Yes            lose            2   \n",
       "3        1  Minghai_Qin        No             No             win            2   \n",
       "4        1  Shaohe_Wang        No             No             win            2   \n",
       "\n",
       "   level_rounds_before level_after  level_rounds_after prime_suit  ...  \\\n",
       "0                    1           2                   1       none  ...   \n",
       "1                    1           2                   1       none  ...   \n",
       "2                    1           2                   1       none  ...   \n",
       "3                    1           3                   1       none  ...   \n",
       "4                    1           3                   1       none  ...   \n",
       "\n",
       "   score_goal  score  dealer_win_lose  non_dealer_win_lose level_up  \\\n",
       "0         120    150             lose                  win        1   \n",
       "1         120    150             lose                  win        1   \n",
       "2         120    150             lose                  win        1   \n",
       "3         120    150             lose                  win        1   \n",
       "4         120    150             lose                  win        1   \n",
       "\n",
       "  lifetime_level_before  lifetime_level_after  year  month  day  \n",
       "0                     0                     0  2020     11    7  \n",
       "1                     0                     0  2020     11    7  \n",
       "2                     0                     0  2020     11    7  \n",
       "3                     0                     1  2020     11    7  \n",
       "4                     0                     1  2020     11    7  \n",
       "\n",
       "[5 rows x 22 columns]"
      ]
     },
     "execution_count": 26,
     "metadata": {},
     "output_type": "execute_result"
    }
   ],
   "source": [
    "df = pd.read_csv('record_playing_cards-v1128.csv')\n",
    "df.head()"
   ]
  },
  {
   "cell_type": "code",
   "execution_count": 27,
   "metadata": {},
   "outputs": [],
   "source": [
    "player_list = df.player_id.unique().tolist()"
   ]
  },
  {
   "cell_type": "code",
   "execution_count": 45,
   "metadata": {},
   "outputs": [],
   "source": [
    "# Utility functions\n",
    "def get_winning_rate(df, player):\n",
    "    '''calculate the winning rate of the specified player'''\n",
    "    df_player = df[df.player_id == player]\n",
    "    df_player_win = df_player[df_player.player_win_lose == 'win']\n",
    "    winning_rate = len(df_player_win) / len(df_player)\n",
    "    return winning_rate\n",
    "\n",
    "def get_n_games(df, player):\n",
    "    '''calculate the number of games played by the specified player'''\n",
    "    df_player = df[df.player_id == player]\n",
    "    return len(df_player)\n",
    "\n",
    "def get_dealer_winning_rate_at_n_decks(df, n_decks):\n",
    "    '''calculate the dealer's winning rate of the specified n_decks'''\n",
    "    df_n_decks = df[df.n_decks == n_decks]\n",
    "    if len(df_n_decks) > 0:\n",
    "        df_selected = df[(df.n_decks == n_decks) & (df.dealer_win_lose == 'win')]\n",
    "        winning_rate = df_selected.game_id.nunique() / df_n_decks.game_id.nunique()\n",
    "        return winning_rate\n",
    "    else:\n",
    "        return 'na'\n"
   ]
  },
  {
   "cell_type": "code",
   "execution_count": 54,
   "metadata": {},
   "outputs": [],
   "source": [
    "n_decks_list = list(range(3, df.n_decks.max()+1))\n",
    "# n_decks\n",
    "dealer_winning_rates = []\n",
    "for n_decks in n_decks_list:\n",
    "    dealer_winning_rates.append(get_dealer_winning_rate_at_n_decks(df, n_decks))"
   ]
  },
  {
   "cell_type": "code",
   "execution_count": 55,
   "metadata": {},
   "outputs": [
    {
     "data": {
      "text/plain": [
       "[0.4, 0.42105263157894735, 0.42857142857142855, 0.42857142857142855, 0.75]"
      ]
     },
     "execution_count": 55,
     "metadata": {},
     "output_type": "execute_result"
    }
   ],
   "source": [
    "dealer_winning_rates"
   ]
  },
  {
   "cell_type": "code",
   "execution_count": 56,
   "metadata": {},
   "outputs": [
    {
     "data": {
      "text/plain": [
       "<AxesSubplot:>"
      ]
     },
     "execution_count": 56,
     "metadata": {},
     "output_type": "execute_result"
    },
    {
     "data": {
      "image/png": "[encoded data removed]",
      "text/plain": [
       "<Figure size 432x288 with 1 Axes>"
      ]
     },
     "metadata": {
      "needs_background": "light"
     },
     "output_type": "display_data"
    }
   ],
   "source": [
    "sns.scatterplot(n_decks_list, dealer_winning_rates)"
   ]
  },
  {
   "cell_type": "code",
   "execution_count": 44,
   "metadata": {},
   "outputs": [
    {
     "data": {
      "text/plain": [
       "8"
      ]
     },
     "execution_count": 44,
     "metadata": {},
     "output_type": "execute_result"
    }
   ],
   "source": [
    "n_decks=4\n",
    "df_selected = df[(df.n_decks == n_decks) & (df.dealer_win_lose == 'win')]\n",
    "df_selected.game_id.nunique()"
   ]
  },
  {
   "cell_type": "code",
   "execution_count": 29,
   "metadata": {},
   "outputs": [
    {
     "name": "stdout",
     "output_type": "stream",
     "text": [
      "Xu_Zhang has played 42 games with a winning rate of 30.95%.\n",
      "Di_Wu has played 47 games with a winning rate of 40.43%.\n",
      "Zheng_Li has played 45 games with a winning rate of 48.89%.\n",
      "Minghai_Qin has played 47 games with a winning rate of 57.45%.\n",
      "Shaohe_Wang has played 47 games with a winning rate of 57.45%.\n",
      "Qingzhi_Liu has played 39 games with a winning rate of 53.85%.\n",
      "Qin_Peng has played 9 games with a winning rate of 88.89%.\n",
      "Hai_Yang has played 26 games with a winning rate of 42.31%.\n",
      "Yanni_Lin has played 14 games with a winning rate of 64.29%.\n",
      "Sibo_Tao has played 5 games with a winning rate of 80.00%.\n",
      "Yangbin_Gao has played 4 games with a winning rate of 0.00%.\n"
     ]
    }
   ],
   "source": [
    "for player in player_list:\n",
    "    n_games = get_n_games(df, player)\n",
    "    winning_rate = get_winning_rate(df, player)\n",
    "    print(player, 'has played', n_games,\n",
    "          'games with a winning rate of',\n",
    "          \"{:.2%}\".format(winning_rate)+'.')"
   ]
  },
  {
   "cell_type": "code",
   "execution_count": 38,
   "metadata": {},
   "outputs": [
    {
     "data": {
      "text/html": [
       "<div>\n",
       "<style scoped>\n",
       "    .dataframe tbody tr th:only-of-type {\n",
       "        vertical-align: middle;\n",
       "    }\n",
       "\n",
       "    .dataframe tbody tr th {\n",
       "        vertical-align: top;\n",
       "    }\n",
       "\n",
       "    .dataframe thead th {\n",
       "        text-align: right;\n",
       "    }\n",
       "</style>\n",
       "<table border=\"1\" class=\"dataframe\">\n",
       "  <thead>\n",
       "    <tr style=\"text-align: right;\">\n",
       "      <th></th>\n",
       "      <th>count</th>\n",
       "      <th>mean</th>\n",
       "      <th>std</th>\n",
       "      <th>min</th>\n",
       "      <th>25%</th>\n",
       "      <th>50%</th>\n",
       "      <th>75%</th>\n",
       "      <th>max</th>\n",
       "    </tr>\n",
       "    <tr>\n",
       "      <th>dealer_win_lose</th>\n",
       "      <th></th>\n",
       "      <th></th>\n",
       "      <th></th>\n",
       "      <th></th>\n",
       "      <th></th>\n",
       "      <th></th>\n",
       "      <th></th>\n",
       "      <th></th>\n",
       "    </tr>\n",
       "  </thead>\n",
       "  <tbody>\n",
       "    <tr>\n",
       "      <th>lose</th>\n",
       "      <td>176.0</td>\n",
       "      <td>25.142045</td>\n",
       "      <td>14.347812</td>\n",
       "      <td>1.0</td>\n",
       "      <td>12.0</td>\n",
       "      <td>28.0</td>\n",
       "      <td>38.0</td>\n",
       "      <td>47.0</td>\n",
       "    </tr>\n",
       "    <tr>\n",
       "      <th>win</th>\n",
       "      <td>149.0</td>\n",
       "      <td>27.899329</td>\n",
       "      <td>12.841416</td>\n",
       "      <td>5.0</td>\n",
       "      <td>17.0</td>\n",
       "      <td>27.0</td>\n",
       "      <td>41.0</td>\n",
       "      <td>46.0</td>\n",
       "    </tr>\n",
       "  </tbody>\n",
       "</table>\n",
       "</div>"
      ],
      "text/plain": [
       "                 count       mean        std  min   25%   50%   75%   max\n",
       "dealer_win_lose                                                          \n",
       "lose             176.0  25.142045  14.347812  1.0  12.0  28.0  38.0  47.0\n",
       "win              149.0  27.899329  12.841416  5.0  17.0  27.0  41.0  46.0"
      ]
     },
     "execution_count": 38,
     "metadata": {},
     "output_type": "execute_result"
    }
   ],
   "source": [
    "df.groupby('dealer_win_lose').describe()['game_id']"
   ]
  },
  {
   "cell_type": "code",
   "execution_count": 36,
   "metadata": {},
   "outputs": [
    {
     "data": {
      "text/plain": [
       "<pandas.core.groupby.generic.DataFrameGroupBy object at 0x7f9d4f5dc310>"
      ]
     },
     "execution_count": 36,
     "metadata": {},
     "output_type": "execute_result"
    }
   ],
   "source": [
    "df.groupby('game_id')"
   ]
  },
  {
   "cell_type": "code",
   "execution_count": 57,
   "metadata": {},
   "outputs": [],
   "source": [
    "SHEET_URL = 'https://docs.google.com/spreadsheets/d/1So3PBr9gV3I0LzApZOgJlQew2QjM1wAiWhR50rAnHRg/edit?ts=5fb9dddf#gid=2137801449'"
   ]
  },
  {
   "cell_type": "code",
   "execution_count": 76,
   "metadata": {},
   "outputs": [
    {
     "data": {
      "text/plain": [
       "'1So3PBr9gV3I0LzApZOgJlQew2QjM1wAiWhR50rAnHRg'"
      ]
     },
     "execution_count": 76,
     "metadata": {},
     "output_type": "execute_result"
    }
   ],
   "source": [
    "SHEET_URL.split('/')[5]"
   ]
  },
  {
   "cell_type": "code",
   "execution_count": 58,
   "metadata": {},
   "outputs": [],
   "source": [
    "import re"
   ]
  },
  {
   "cell_type": "code",
   "execution_count": 72,
   "metadata": {},
   "outputs": [
    {
     "data": {
      "text/plain": [
       "'abc'"
      ]
     },
     "execution_count": 72,
     "metadata": {},
     "output_type": "execute_result"
    }
   ],
   "source": [
    "a = 'abc111'\n",
    "result = re.match('[a-z]+', a)\n",
    "result[0]"
   ]
  },
  {
   "cell_type": "code",
   "execution_count": 75,
   "metadata": {},
   "outputs": [
    {
     "data": {
      "text/plain": [
       "<re.Match object; span=(0, 83), match='https://docs.google.com/spreadsheets/d/1So3PBr9gV>"
      ]
     },
     "execution_count": 75,
     "metadata": {},
     "output_type": "execute_result"
    }
   ],
   "source": [
    "# prog = re.compile('/spreadsheets/d/([a-zA-Z0-9-_]+)')\n",
    "result = re.match('.*/spreadsheets/d/([a-zA-Z0-9-_]+)', SHEET_URL)\n",
    "result"
   ]
  },
  {
   "cell_type": "code",
   "execution_count": null,
   "metadata": {},
   "outputs": [],
   "source": [
    "import pandas as pd\n",
    "SCOPES = ['https://www.googleapis.com/auth/spreadsheets']\n",
    "SPREADSHEET_ID = 'spreadsheet_url_ID'\n",
    "RANGE_NAME = 'spreadsheet_tab_name!'\n",
    "data = pull_sheet_data(SCOPES,SPREADSHEET_ID,RANGE_NAME)\n",
    "df = pd.DataFrame(data[1:], columns=data[0])\n",
    "df"
   ]
  }
 ],
 "metadata": {
  "kernelspec": {
   "display_name": "Python 3",
   "language": "python",
   "name": "python3"
  },
  "language_info": {
   "codemirror_mode": {
    "name": "ipython",
    "version": 3
   },
   "file_extension": ".py",
   "mimetype": "text/x-python",
   "name": "python",
   "nbconvert_exporter": "python",
   "pygments_lexer": "ipython3",
   "version": "3.7.7"
  }
 },
 "nbformat": 4,
 "nbformat_minor": 4
}
